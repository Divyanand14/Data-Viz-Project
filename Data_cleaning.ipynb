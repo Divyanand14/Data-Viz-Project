{
 "cells": [
  {
   "cell_type": "code",
   "execution_count": 2,
   "metadata": {},
   "outputs": [],
   "source": [
    "# PACKAGES\n",
    "import pandas as pd"
   ]
  },
  {
   "cell_type": "code",
   "execution_count": 3,
   "metadata": {},
   "outputs": [],
   "source": [
    "# IMPORT DATASET\n",
    "dataset = pd.read_csv(r'f:\\Python\\tv_shows.csv')"
   ]
  },
  {
   "cell_type": "code",
   "execution_count": null,
   "metadata": {},
   "outputs": [],
   "source": [
    "### INSPECT FOR NULL VALUES\n",
    "dataset.info()"
   ]
  },
  {
   "cell_type": "code",
   "execution_count": 5,
   "metadata": {},
   "outputs": [],
   "source": [
    "   ###  FILL NULL VALUES\n",
    "dataset['IMDb'] = dataset['IMDb'].fillna(0) "
   ]
  },
  {
   "cell_type": "code",
   "execution_count": 6,
   "metadata": {},
   "outputs": [],
   "source": [
    "##RESHAPING INTO LONG FORMAT\n",
    "con_data = pd.melt(dataset[['Title','Netflix','Hulu','Prime Video','Disney+']],id_vars=['Title'],var_name='Platform',value_name='present')\n",
    "con_data = con_data[con_data['present'] == 1]"
   ]
  },
  {
   "cell_type": "code",
   "execution_count": 7,
   "metadata": {},
   "outputs": [],
   "source": [
    "# MERGE DATASET\n",
    "stream_data = pd.merge(con_data,dataset,on='Title')"
   ]
  },
  {
   "cell_type": "code",
   "execution_count": null,
   "metadata": {},
   "outputs": [],
   "source": [
    "# DROP UNWANTED COLUMNS\n",
    "stream_data = stream_data.drop(columns=['Unnamed: 0','Present','ID','Netflix','Hulu','Prime Video','Disney+','Type'])"
   ]
  },
  {
   "cell_type": "code",
   "execution_count": 12,
   "metadata": {},
   "outputs": [],
   "source": [
    "#EXPORT DATASET\n",
    "filepath = 'f:\\Python\\OTT Data.csv'\n",
    "stream_data.to_csv(filepath)"
   ]
  }
 ],
 "metadata": {
  "kernelspec": {
   "display_name": "Python 3",
   "language": "python",
   "name": "python3"
  },
  "language_info": {
   "codemirror_mode": {
    "name": "ipython",
    "version": 3
   },
   "file_extension": ".py",
   "mimetype": "text/x-python",
   "name": "python",
   "nbconvert_exporter": "python",
   "pygments_lexer": "ipython3",
   "version": "3.9.7"
  },
  "orig_nbformat": 4
 },
 "nbformat": 4,
 "nbformat_minor": 2
}
